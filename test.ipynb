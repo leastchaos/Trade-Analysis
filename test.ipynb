{
 "cells": [
  {
   "cell_type": "code",
   "execution_count": 146,
   "metadata": {},
   "outputs": [],
   "source": [
    "\r\n",
    "import xml.etree.ElementTree as et \r\n",
    "path=r'E:\\PythonEnv\\Trade Analysis\\U6787370_multi2_20200320_20210319_AF_NA_1179f69c7a1578dcb20ce38cc802fa21 (1).xml'\r\n",
    "xtree = et.parse(path)\r\n",
    "xroot = xtree.getroot()"
   ]
  },
  {
   "cell_type": "code",
   "execution_count": 33,
   "metadata": {},
   "outputs": [],
   "source": [
    "path=r'E:\\PythonEnv\\Trade Analysis\\U6787370_U7662380_20200320_20210319_AF_NA_f2b0a43c9ccb0b7d539fae4f5a9ca2f2.txt'\r\n",
    "df=pd.read_csv(path)\r\n",
    "relevant_columns=['ClientAccountID','Symbol','UnderlyingSymbol','Strike', 'Expiry', 'Buy/Sell',\r\n",
    "       'TradeID', 'Put/Call', 'TradeDate','TransactionType','Quantity','TradePrice','NetCash','FifoPnlRealized','Open/CloseIndicator','ClosePrice']\r\n",
    "\r\n",
    "final_columns=['ClientAccountID','Symbol','Ticker','Strategy','Expiry','Strike','Quantity','TradeDate','ClosePrice']\r\n",
    "df=merge_symbol(df)\r\n",
    "df=get_strategy(df)\r\n",
    "\r\n",
    "df[final_columns].to_excel('test.xlsx')"
   ]
  },
  {
   "cell_type": "code",
   "execution_count": 4,
   "metadata": {},
   "outputs": [
    {
     "data": {
      "text/plain": "0     CLOSE\n19    CLOSE\n25    CLOSE\n53    CLOSE\n28    CLOSE\n32    CLOSE\n33    CLOSE\n18    CLOSE\n38    CLOSE\n40    CLOSE\n45    CLOSE\n46    CLOSE\n49    CLOSE\n50    CLOSE\n51    CLOSE\n39    CLOSE\n17    CLOSE\n27    CLOSE\n15    CLOSE\n16    CLOSE\n9     CLOSE\n10    CLOSE\n5     CLOSE\n4     CLOSE\n8     CLOSE\n12    CLOSE\n11    CLOSE\n13    CLOSE\n2     CLOSE\n14    CLOSE\n6     CLOSE\n48     OPEN\n3      OPEN\n44     OPEN\n1      OPEN\n52     OPEN\n43     OPEN\n42     OPEN\n41     OPEN\n47     OPEN\n36     OPEN\n37     OPEN\n35     OPEN\n34     OPEN\n31     OPEN\n30     OPEN\n29     OPEN\n26     OPEN\n24     OPEN\n23     OPEN\n22     OPEN\n21     OPEN\n20     OPEN\n7      OPEN\n54     OPEN\nName: TradeStatus, dtype: object"
     },
     "execution_count": 4,
     "metadata": {},
     "output_type": "execute_result"
    }
   ],
   "source": [
    "import pandas as pd\r\n",
    "import numpy as np\r\n",
    "# Raw Data\r\n",
    "group_columns=['Symbol','Open/CloseIndicator','Buy/Sell','Put/Call']\r\n",
    "def merge_symbol(df):\r\n",
    "    df['Ticker'] = df['Symbol'].where(\r\n",
    "        df['UnderlyingSymbol'].isnull(), df['UnderlyingSymbol'])\r\n",
    "    return df\r\n",
    "\r\n",
    "\r\n",
    "def get_strategy(df):\r\n",
    "    df['Strategy'] = None\r\n",
    "    df.loc[df['AssetClass'] == 'STK', 'Strategy'] = 'Stock'\r\n",
    "\r\n",
    "    short_put = ((df['Open/CloseIndicator'] == 'O')\r\n",
    "                 & (df['Buy/Sell'] == 'SELL')\r\n",
    "                 & (df['Put/Call'] == 'P'))\r\n",
    "    short_call = ((df['Open/CloseIndicator'] == 'O')\r\n",
    "                  & (df['Buy/Sell'] == 'SELL')\r\n",
    "                  & (df['Put/Call'] == 'C'))\r\n",
    "    long_put = ((df['Open/CloseIndicator'] == 'O')\r\n",
    "                & (df['Buy/Sell'] == 'BUY')\r\n",
    "                & (df['Put/Call'] == 'P'))\r\n",
    "    long_call = ((df['Open/CloseIndicator'] == 'O')\r\n",
    "                 & (df['Buy/Sell'] == 'BUY')\r\n",
    "                 & (df['Put/Call'] == 'C'))\r\n",
    "\r\n",
    "    df.loc[short_put, 'Strategy'] = 'Short Put'\r\n",
    "    df.loc[short_call,'Strategy']='Short Call'\r\n",
    "    df.loc[long_put, 'Strategy'] = 'Long Put'\r\n",
    "    df.loc[long_call,'Strategy']='Long Call'\r\n",
    "\r\n",
    "    return df\r\n",
    "\r\n",
    "def drop_stock(df):\r\n",
    "    df=df[df.Strategy!='Stock']\r\n",
    "    return df\r\n",
    "\r\n",
    "def group_trades(df):\r\n",
    "    df['Put/Call']=df['Put/Call'].where(df['AssetClass']=='OPT','S')\r\n",
    "    df_grouped=df.groupby(group_columns)\r\n",
    "    df['TradeDateImp']=group_trade_date(df_grouped)\r\n",
    "    df['Quantity']=group_quantity(df_grouped)\r\n",
    "    return df\r\n",
    "\r\n",
    "def group_close_price(df):\r\n",
    "    df['adjusted_close_volume']=df['Quantity']*df['ClosePrice']\r\n",
    "    df['adjusted_close']=df.groupby(group_columns)['adjusted_close_volume'].transform('sum')\r\n",
    "    df['adjusted_close']=df['adjusted_close_volume']/df['Quantity']\r\n",
    "    \r\n",
    "def group_quantity(df_grouped):\r\n",
    "    return df_grouped['Quantity'].transform('sum')\r\n",
    "\r\n",
    "def group_trade_date(df_grouped):\r\n",
    "    tmp_trade_date_max=df_grouped['TradeDate'].transform('max')\r\n",
    "    tmp_trade_date_min=df_grouped['TradeDate'].transform('min')\r\n",
    "    return tmp_trade_date_max.where(df['Open/CloseIndicator']=='C',tmp_trade_date_min)\r\n",
    "\r\n",
    "def drop_duplicates(df):\r\n",
    "    return df.drop_duplicates(group_columns)\r\n",
    "\r\n",
    "def extract_relevant_columns(df,columns=['ClientAccountID','Symbol','Open/CloseIndicator','Ticker','Strategy','Expiry','Strike','Quantity','TradeDate','ClosePrice']):\r\n",
    "    return df[columns]\r\n",
    "\r\n",
    "def merge_open_close(df_rel):\r\n",
    "    df_close=df_rel.loc[df_rel['Open/CloseIndicator']=='C'].drop(['Open/CloseIndicator','Ticker','Strategy'],axis=1)\r\n",
    "    df_open=df_rel.loc[df_rel['Open/CloseIndicator']=='O'].drop(['Open/CloseIndicator',],axis=1)\r\n",
    "    df=df_open.merge(df_close,on=['ClientAccountID','Symbol','Expiry','Strike',],suffixes=('_Open','_Close'),how='left')\r\n",
    "    return df\r\n",
    "\r\n",
    "## Analysis\r\n",
    "def get_capital_usage(df):\r\n",
    "    column='Capital'\r\n",
    "    df[column]=None\r\n",
    "    df[column]=df[column].where(df.Strategy!='Short Put',(df['Strike']-df['ClosePrice_Open'])*df['Quantity_Open']*-100)\r\n",
    "    df[column]=df[column].where(df.Strategy!='Long Put',(df['ClosePrice_Open'])*df['Quantity_Open']*100)\r\n",
    "    df[column]=df[column].where(df.Strategy!='Short Call',(df['Strike'])*df['Quantity_Open']*-100)\r\n",
    "    df[column]=df[column].where(df.Strategy!='Long Call',(df['ClosePrice_Open'])*df['Quantity_Open']*100)\r\n",
    "    df[column]=df[column].where(df.Strategy!='Stock',(df['ClosePrice_Open'])*df['Quantity_Open']*100)\r\n",
    "    return df\r\n",
    "\r\n",
    "def get_profit(df):\r\n",
    "    column='Profit'\r\n",
    "    df[column]=None\r\n",
    "    df[column]=df[column].where(df.ClosePrice_Close.isnull(),(df['ClosePrice_Close']-df['ClosePrice_Open'])*df['Quantity_Close']*100)\r\n",
    "    return df\r\n",
    "\r\n",
    "def get_trade_status(df):\r\n",
    "    column='TradeStatus'\r\n",
    "    df[column]=np.where(df['Quantity_Close'].isnull(),'OPEN','CLOSE')\r\n",
    "    return df\r\n",
    "\r\n",
    "def get_max_reward(df):\r\n",
    "    column='MaxReward'\r\n",
    "    df[column]=None\r\n",
    "    df[column]=df[column].where(df.Strategy!='Short Put',(df['ClosePrice_Open'])*df['Quantity_Open']*-100)\r\n",
    "    df[column]=df[column].where(df.Strategy!='Long Put',(df['Strike']-df['ClosePrice_Open'])*df['Quantity_Open']*100)\r\n",
    "    df[column]=df[column].where(df.Strategy!='Short Call',(df['ClosePrice_Open'])*df['Quantity_Open']*-100)\r\n",
    "    return df\r\n",
    "def get_ROC(df):\r\n",
    "    column='ROC'\r\n",
    "    df[column]=None\r\n",
    "    df[column]=df[column].where(df['Quantity_Close'].isnull(),df['Profit']/df['Capital'])\r\n",
    "    return df\r\n",
    "\r\n",
    "def split_date(df_col):\r\n",
    "    #df_col=df_col.apply(str)\r\n",
    "    df_col=pd.to_datetime(df_col,format='%Y%m%d')\r\n",
    "    year = df_col.dt.year\r\n",
    "    month = df_col.dt.month\r\n",
    "    day = df_col.dt.day\r\n",
    "    return year,month,day\r\n",
    "\r\n",
    "def split_df_date(df):\r\n",
    "    df['open_year'],df['open_month'],df['open_day']=split_date(df['TradeDate_Open'])\r\n",
    "    df['close_year'],df['close_month'],df['close_day']=split_date(df['TradeDate_Close'])\r\n",
    "    return df\r\n",
    "\r\n",
    "def get_days_in_trade(df):\r\n",
    "    df['DaysInTrade']=df['TradeDate_Close']-df['TradeDate_Open']+1\r\n",
    "    return df\r\n",
    "\r\n",
    "def get_profit_per_day(df):\r\n",
    "    df['ProfitPerDay']=df['Profit']/df['DaysInTrade']\r\n",
    "    return df\r\n",
    "\r\n",
    "def sort_by_status(df):\r\n",
    "    return df.sort_values(by=['TradeStatus'])\r\n",
    "path=r'E:\\PythonEnv\\Trade Analysis\\U6787370_U7662380_20200320_20210319_AF_NA_f2b0a43c9ccb0b7d539fae4f5a9ca2f2.txt'\r\n",
    "df=pd.read_csv(path)\r\n",
    "df=merge_symbol(df)\r\n",
    "df=get_strategy(df)\r\n",
    "df=drop_stock(df)\r\n",
    "df=group_trades(df)\r\n",
    "df=drop_duplicates(df)\r\n",
    "df=extract_relevant_columns(df)\r\n",
    "df=merge_open_close(df)\r\n",
    "df=get_capital_usage(df)\r\n",
    "df=get_trade_status(df)\r\n",
    "df=get_profit(df)\r\n",
    "df=get_max_reward(df)\r\n",
    "df=get_ROC(df)\r\n",
    "df=split_df_date(df)\r\n",
    "df=get_days_in_trade(df)\r\n",
    "df=get_profit_per_day(df)\r\n",
    "df=sort_by_status(df)\r\n",
    "df.to_excel('test2.xlsx')\r\n",
    "df.TradeStatus\r\n"
   ]
  },
  {
   "cell_type": "code",
   "execution_count": 27,
   "metadata": {},
   "outputs": [
    {
     "name": "stdout",
     "output_type": "stream",
     "text": [
      "Please visit this URL to authorize this application: https://accounts.google.com/o/oauth2/auth?response_type=code&client_id=501908068778-ktel7qngot2r72ju91ec5huimqnphpuh.apps.googleusercontent.com&redirect_uri=http%3A%2F%2Flocalhost%3A65318%2F&scope=https%3A%2F%2Fwww.googleapis.com%2Fauth%2Fspreadsheets+https%3A%2F%2Fwww.googleapis.com%2Fauth%2Fdrive&state=WmB91oKWfOHeR40zD11jTHiQhRGpsf&access_type=offline\n"
     ]
    }
   ],
   "source": [
    "import pandas as pd\r\n",
    "import gspread\r\n",
    "\r\n",
    "gc = gspread.oauth()\r\n",
    "gc.open('My Options Journal')\r\n"
   ]
  },
  {
   "cell_type": "code",
   "execution_count": 5,
   "metadata": {},
   "outputs": [
    {
     "ename": "AttributeError",
     "evalue": "'Resource' object has no attribute 'open'",
     "output_type": "error",
     "traceback": [
      "\u001b[1;31m---------------------------------------------------------------------------\u001b[0m",
      "\u001b[1;31mAttributeError\u001b[0m                            Traceback (most recent call last)",
      "\u001b[1;32m<ipython-input-12-6a91f8d2a1cb>\u001b[0m in \u001b[0;36m<module>\u001b[1;34m\u001b[0m\n\u001b[0;32m     33\u001b[0m     \u001b[1;32mreturn\u001b[0m \u001b[0msheet\u001b[0m\u001b[1;33m\u001b[0m\u001b[1;33m\u001b[0m\u001b[0m\n\u001b[0;32m     34\u001b[0m \u001b[0msheet\u001b[0m\u001b[1;33m=\u001b[0m\u001b[0msheets_login\u001b[0m\u001b[1;33m(\u001b[0m\u001b[1;33m)\u001b[0m\u001b[1;33m\u001b[0m\u001b[1;33m\u001b[0m\u001b[0m\n\u001b[1;32m---> 35\u001b[1;33m \u001b[0msheet\u001b[0m\u001b[1;33m.\u001b[0m\u001b[0mopen\u001b[0m\u001b[1;33m(\u001b[0m\u001b[1;34m'12Cxci_PBE8ZG1-IdUX1h_SbnjKIU4yRcf8lEQ14ILSc'\u001b[0m\u001b[1;33m)\u001b[0m\u001b[1;33m\u001b[0m\u001b[1;33m\u001b[0m\u001b[0m\n\u001b[0m",
      "\u001b[1;31mAttributeError\u001b[0m: 'Resource' object has no attribute 'open'"
     ]
    }
   ],
   "source": [
    "import os.path\r\n",
    "from googleapiclient.discovery import build\r\n",
    "from google_auth_oauthlib.flow import InstalledAppFlow\r\n",
    "from google.auth.transport.requests import Request\r\n",
    "import pickle\r\n",
    "\r\n",
    "sheet=sheets_login()\r\n",
    "sheet.open\r\n",
    "result = sheet.values().get(spreadsheetId=SPREADSHEET_ID,\r\n",
    "                            range=RANGE_NAME).execute()"
   ]
  },
  {
   "cell_type": "code",
   "execution_count": 25,
   "metadata": {},
   "outputs": [
    {
     "name": "stdout",
     "output_type": "stream",
     "text": [
      "COMPLETE: Data copied\n"
     ]
    },
    {
     "ename": "AttributeError",
     "evalue": "'dict' object has no attribute 'spreadsheet'",
     "output_type": "error",
     "traceback": [
      "\u001b[1;31m---------------------------------------------------------------------------\u001b[0m",
      "\u001b[1;31mAttributeError\u001b[0m                            Traceback (most recent call last)",
      "\u001b[1;32m<ipython-input-25-f6dba3b45dc1>\u001b[0m in \u001b[0;36m<module>\u001b[1;34m\u001b[0m\n\u001b[0;32m     41\u001b[0m \u001b[0mDATA_TO_PULL\u001b[0m \u001b[1;33m=\u001b[0m \u001b[1;34m'data'\u001b[0m\u001b[1;33m\u001b[0m\u001b[1;33m\u001b[0m\u001b[0m\n\u001b[0;32m     42\u001b[0m \u001b[0mdata\u001b[0m \u001b[1;33m=\u001b[0m \u001b[0mpull_sheet_data\u001b[0m\u001b[1;33m(\u001b[0m\u001b[0mSCOPES\u001b[0m\u001b[1;33m,\u001b[0m\u001b[0mSPREADSHEET_ID\u001b[0m\u001b[1;33m,\u001b[0m\u001b[0mDATA_TO_PULL\u001b[0m\u001b[1;33m)\u001b[0m\u001b[1;33m\u001b[0m\u001b[1;33m\u001b[0m\u001b[0m\n\u001b[1;32m---> 43\u001b[1;33m \u001b[0mdf2\u001b[0m \u001b[1;33m=\u001b[0m\u001b[0mget_as_dataframe\u001b[0m\u001b[1;33m(\u001b[0m\u001b[0mdata\u001b[0m\u001b[1;33m)\u001b[0m\u001b[1;33m\u001b[0m\u001b[1;33m\u001b[0m\u001b[0m\n\u001b[0m\u001b[0;32m     44\u001b[0m \u001b[0mdf2\u001b[0m\u001b[1;33m\u001b[0m\u001b[1;33m\u001b[0m\u001b[0m\n",
      "\u001b[1;32mE:\\Anaconda3\\lib\\site-packages\\gspread_dataframe.py\u001b[0m in \u001b[0;36mget_as_dataframe\u001b[1;34m(worksheet, evaluate_formulas, **options)\u001b[0m\n\u001b[0;32m    200\u001b[0m     \u001b[1;33m:\u001b[0m\u001b[0mreturns\u001b[0m\u001b[1;33m:\u001b[0m \u001b[0mpandas\u001b[0m\u001b[1;33m.\u001b[0m\u001b[0mDataFrame\u001b[0m\u001b[1;33m\u001b[0m\u001b[1;33m\u001b[0m\u001b[0m\n\u001b[0;32m    201\u001b[0m     \"\"\"\n\u001b[1;32m--> 202\u001b[1;33m     \u001b[0mall_values\u001b[0m \u001b[1;33m=\u001b[0m \u001b[0m_get_all_values\u001b[0m\u001b[1;33m(\u001b[0m\u001b[0mworksheet\u001b[0m\u001b[1;33m,\u001b[0m \u001b[0mevaluate_formulas\u001b[0m\u001b[1;33m)\u001b[0m\u001b[1;33m\u001b[0m\u001b[1;33m\u001b[0m\u001b[0m\n\u001b[0m\u001b[0;32m    203\u001b[0m     \u001b[1;32mreturn\u001b[0m \u001b[0mTextParser\u001b[0m\u001b[1;33m(\u001b[0m\u001b[0mall_values\u001b[0m\u001b[1;33m,\u001b[0m \u001b[1;33m**\u001b[0m\u001b[0moptions\u001b[0m\u001b[1;33m)\u001b[0m\u001b[1;33m.\u001b[0m\u001b[0mread\u001b[0m\u001b[1;33m(\u001b[0m\u001b[0moptions\u001b[0m\u001b[1;33m.\u001b[0m\u001b[0mget\u001b[0m\u001b[1;33m(\u001b[0m\u001b[1;34m\"nrows\"\u001b[0m\u001b[1;33m,\u001b[0m \u001b[1;32mNone\u001b[0m\u001b[1;33m)\u001b[0m\u001b[1;33m)\u001b[0m\u001b[1;33m\u001b[0m\u001b[1;33m\u001b[0m\u001b[0m\n\u001b[0;32m    204\u001b[0m \u001b[1;33m\u001b[0m\u001b[0m\n",
      "\u001b[1;32mE:\\Anaconda3\\lib\\site-packages\\gspread_dataframe.py\u001b[0m in \u001b[0;36m_get_all_values\u001b[1;34m(worksheet, evaluate_formulas)\u001b[0m\n\u001b[0;32m    145\u001b[0m \u001b[1;33m\u001b[0m\u001b[0m\n\u001b[0;32m    146\u001b[0m \u001b[1;32mdef\u001b[0m \u001b[0m_get_all_values\u001b[0m\u001b[1;33m(\u001b[0m\u001b[0mworksheet\u001b[0m\u001b[1;33m,\u001b[0m \u001b[0mevaluate_formulas\u001b[0m\u001b[1;33m)\u001b[0m\u001b[1;33m:\u001b[0m\u001b[1;33m\u001b[0m\u001b[1;33m\u001b[0m\u001b[0m\n\u001b[1;32m--> 147\u001b[1;33m     data = worksheet.spreadsheet.values_get(\n\u001b[0m\u001b[0;32m    148\u001b[0m         \u001b[0mworksheet\u001b[0m\u001b[1;33m.\u001b[0m\u001b[0mtitle\u001b[0m\u001b[1;33m,\u001b[0m\u001b[1;33m\u001b[0m\u001b[1;33m\u001b[0m\u001b[0m\n\u001b[0;32m    149\u001b[0m         params={\n",
      "\u001b[1;31mAttributeError\u001b[0m: 'dict' object has no attribute 'spreadsheet'"
     ]
    }
   ],
   "source": [
    "from googleapiclient.discovery import build\r\n",
    "\r\n",
    "def gsheet_api_check(SCOPES,folderpath='./credentials/'):\r\n",
    "    creds = None\r\n",
    "    if os.path.exists(f'{folderpath}token.pickle'):\r\n",
    "        with open(f'{folderpath}token.pickle', 'rb') as token:\r\n",
    "            creds = pickle.load(token)\r\n",
    "    if not creds or not creds.valid:\r\n",
    "        if creds and creds.expired and creds.refresh_token:\r\n",
    "            creds.refresh(Request())\r\n",
    "        else:\r\n",
    "            flow = InstalledAppFlow.from_client_secrets_file(\r\n",
    "                f'{folderpath}credentials.json', SCOPES)\r\n",
    "            creds = flow.run_local_server(port=0)\r\n",
    "        with open(f'{folderpath}token.pickle', 'wb') as token:\r\n",
    "            pickle.dump(creds, token)\r\n",
    "    return creds\r\n",
    "\r\n",
    "def pull_sheet_data(SCOPES,SPREADSHEET_ID,DATA_TO_PULL):\r\n",
    "    creds = gsheet_api_check(SCOPES)\r\n",
    "    service = build('sheets', 'v4', credentials=creds)\r\n",
    "    sheet = service.spreadsheets()\r\n",
    "    result = sheet.values().get(\r\n",
    "        spreadsheetId=SPREADSHEET_ID,\r\n",
    "        range=DATA_TO_PULL).execute()\r\n",
    "    values = result.get('values', [])\r\n",
    "    \r\n",
    "    if not values:\r\n",
    "        print('No data found.')\r\n",
    "    else:\r\n",
    "        rows = sheet.values().get(spreadsheetId=SPREADSHEET_ID,\r\n",
    "                                  range=DATA_TO_PULL).execute()\r\n",
    "        data = rows.get('values')\r\n",
    "        print(\"COMPLETE: Data copied\")\r\n",
    "        return result\r\n",
    "import pandas as pd\r\n",
    "from gspread_dataframe import get_as_dataframe, set_with_dataframe\r\n",
    "\r\n",
    "SCOPES = ['https://www.googleapis.com/auth/spreadsheets']\r\n",
    "SPREADSHEET_ID = '12Cxci_PBE8ZG1-IdUX1h_SbnjKIU4yRcf8lEQ14ILSc'\r\n",
    "DATA_TO_PULL = 'data'\r\n",
    "data = pull_sheet_data(SCOPES,SPREADSHEET_ID,DATA_TO_PULL)\r\n",
    "df2 =get_as_dataframe(data)\r\n",
    "df2"
   ]
  },
  {
   "cell_type": "code",
   "execution_count": 15,
   "metadata": {},
   "outputs": [
    {
     "ename": "AttributeError",
     "evalue": "'Resource' object has no attribute 'open'",
     "output_type": "error",
     "traceback": [
      "\u001b[1;31m---------------------------------------------------------------------------\u001b[0m",
      "\u001b[1;31mAttributeError\u001b[0m                            Traceback (most recent call last)",
      "\u001b[1;32m<ipython-input-15-0bbcc3b596f8>\u001b[0m in \u001b[0;36m<module>\u001b[1;34m\u001b[0m\n\u001b[0;32m      3\u001b[0m \u001b[1;31m# Connecting with `gspread` here\u001b[0m\u001b[1;33m\u001b[0m\u001b[1;33m\u001b[0m\u001b[1;33m\u001b[0m\u001b[0m\n\u001b[0;32m      4\u001b[0m \u001b[0mgc\u001b[0m \u001b[1;33m=\u001b[0m \u001b[0msheets_login\u001b[0m\u001b[1;33m(\u001b[0m\u001b[1;33m)\u001b[0m\u001b[1;33m\u001b[0m\u001b[1;33m\u001b[0m\u001b[0m\n\u001b[1;32m----> 5\u001b[1;33m \u001b[0mws\u001b[0m \u001b[1;33m=\u001b[0m \u001b[0mgc\u001b[0m\u001b[1;33m.\u001b[0m\u001b[0mopen\u001b[0m\u001b[1;33m(\u001b[0m\u001b[1;34m\"SheetName\"\u001b[0m\u001b[1;33m)\u001b[0m\u001b[1;33m.\u001b[0m\u001b[0mworksheet\u001b[0m\u001b[1;33m(\u001b[0m\u001b[1;34m\"xyz\"\u001b[0m\u001b[1;33m)\u001b[0m\u001b[1;33m\u001b[0m\u001b[1;33m\u001b[0m\u001b[0m\n\u001b[0m\u001b[0;32m      6\u001b[0m \u001b[0mexisting\u001b[0m \u001b[1;33m=\u001b[0m \u001b[0mgd\u001b[0m\u001b[1;33m.\u001b[0m\u001b[0mget_as_dataframe\u001b[0m\u001b[1;33m(\u001b[0m\u001b[0mws\u001b[0m\u001b[1;33m)\u001b[0m\u001b[1;33m\u001b[0m\u001b[1;33m\u001b[0m\u001b[0m\n\u001b[0;32m      7\u001b[0m \u001b[0mupdated\u001b[0m \u001b[1;33m=\u001b[0m \u001b[0mexisting\u001b[0m\u001b[1;33m.\u001b[0m\u001b[0mappend\u001b[0m\u001b[1;33m(\u001b[0m\u001b[0myour_new_data\u001b[0m\u001b[1;33m)\u001b[0m\u001b[1;33m\u001b[0m\u001b[1;33m\u001b[0m\u001b[0m\n",
      "\u001b[1;31mAttributeError\u001b[0m: 'Resource' object has no attribute 'open'"
     ]
    }
   ],
   "source": [
    "import gspread_dataframe as gd\r\n",
    "import gspread\r\n",
    "# Connecting with `gspread` here\r\n",
    "gc = sheets_login()\r\n",
    "ws = gc.open(\"SheetName\").worksheet(\"xyz\")\r\n",
    "existing = gd.get_as_dataframe(ws)\r\n",
    "updated = existing.append(your_new_data)\r\n",
    "gd.set_with_dataframe(ws, updated)"
   ]
  },
  {
   "cell_type": "code",
   "execution_count": null,
   "metadata": {},
   "outputs": [],
   "source": []
  }
 ],
 "metadata": {
  "kernelspec": {
   "display_name": "Python 3.7.6 64-bit ('base': conda)",
   "metadata": {
    "interpreter": {
     "hash": "4905652b14e4b7eb92899b78ac499a22c488804455b27940a322fd82aaf71031"
    }
   },
   "name": "python3"
  },
  "language_info": {
   "codemirror_mode": {
    "name": "ipython",
    "version": 3
   },
   "file_extension": ".py",
   "mimetype": "text/x-python",
   "name": "python",
   "nbconvert_exporter": "python",
   "pygments_lexer": "ipython3",
   "version": "3.7.6"
  },
  "orig_nbformat": 2
 },
 "nbformat": 4,
 "nbformat_minor": 2
}